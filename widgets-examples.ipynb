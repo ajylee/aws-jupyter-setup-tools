{
 "cells": [
  {
   "cell_type": "markdown",
   "metadata": {},
   "source": [
    "# Widget Examples\n",
    "\n",
    "Run each cell to see a new widget / graphic\n",
    "\n",
    "## Slider\n",
    "\n",
    "Simple interactive slider. Use `slider.widget.result` to get its result."
   ]
  },
  {
   "cell_type": "code",
   "execution_count": 1,
   "metadata": {},
   "outputs": [
    {
     "data": {
      "application/vnd.jupyter.widget-view+json": {
       "model_id": "5997b5ca5eea4c9585cb6fcf9f11e0ac",
       "version_major": 2,
       "version_minor": 0
      },
      "text/plain": [
       "interactive(children=(IntSlider(value=20, description='x', max=60, min=-20), Output()), _dom_classes=('widget-…"
      ]
     },
     "metadata": {},
     "output_type": "display_data"
    }
   ],
   "source": [
    "import ipywidgets\n",
    "\n",
    "def f(x):\n",
    "    return 0.1*x\n",
    "\n",
    "slider = ipywidgets.interact(f, x=20)"
   ]
  },
  {
   "cell_type": "markdown",
   "metadata": {},
   "source": [
    "## Simple sheet and plot based on the above slider\n",
    "\n",
    "Note that this does not dynamically update. If you change the above slider, you need to rerun the cell. Also, you can interact with the plot view to zoom and pan.\n",
    "\n",
    "Note that `%matplotlib inline` makes the plot non-interactive. This is because you cannot have two interactive plots at the same time. (The next one is interactive.)"
   ]
  },
  {
   "cell_type": "code",
   "execution_count": 6,
   "metadata": {},
   "outputs": [
    {
     "data": {
      "application/vnd.jupyter.widget-view+json": {
       "model_id": "4b0b6a6852484307993c7ba9104f1553",
       "version_major": 2,
       "version_minor": 0
      },
      "text/plain": [
       "Sheet(cells=(Cell(choice=[], column_end=0, column_start=0, numeric_format='0[.]0', row_end=9, row_start=0, squ…"
      ]
     },
     "metadata": {},
     "output_type": "display_data"
    },
    {
     "data": {
      "image/png": "[encoded data removed]",
      "text/plain": [
       "<Figure size 432x288 with 1 Axes>"
      ]
     },
     "metadata": {
      "needs_background": "light"
     },
     "output_type": "display_data"
    }
   ],
   "source": [
    "%matplotlib inline\n",
    "\n",
    "import ipysheet\n",
    "import pandas\n",
    "from matplotlib import pyplot as plt\n",
    "\n",
    "ipywidgets.interact\n",
    "\n",
    "def example_data(base):\n",
    "    return pandas.DataFrame(\n",
    "        columns=['a','b'], \n",
    "        data=[\n",
    "            {'a': a, 'b': base**a}\n",
    "            for a in range(10)\n",
    "        ]\n",
    "    )\n",
    "\n",
    "df = example_data(slider.widget.result)\n",
    "display(ipysheet.from_dataframe(df))\n",
    "plt.plot(df.a, df.b)\n",
    "None"
   ]
  },
  {
   "cell_type": "markdown",
   "metadata": {},
   "source": [
    "## Simple sheet and plot based on the above slider\n",
    "\n",
    "Note that this does not dynamically update. If you change the above slider, you need to rerun the cell. Also, you can interact with the plot view to zoom and pan."
   ]
  },
  {
   "cell_type": "code",
   "execution_count": 1,
   "metadata": {},
   "outputs": [
    {
     "name": "stdout",
     "output_type": "stream",
     "text": [
      "ZMQInteractiveShell\n"
     ]
    },
    {
     "data": {
      "application/vnd.jupyter.widget-view+json": {
       "model_id": "5c8c369e749947369826544c73333310",
       "version_major": 2,
       "version_minor": 0
      },
      "text/plain": [
       "Canvas(toolbar=Toolbar(toolitems=[('Home', 'Reset original view', 'home', 'home'), ('Back', 'Back to previous …"
      ]
     },
     "metadata": {},
     "output_type": "display_data"
    },
    {
     "data": {
      "text/plain": [
       "<matplotlib.axes._subplots.AxesSubplot at 0x11e488760>"
      ]
     },
     "metadata": {},
     "output_type": "display_data"
    },
    {
     "data": {
      "application/vnd.jupyter.widget-view+json": {
       "model_id": "348316c40b204a25b924b9cf7802dda4",
       "version_major": 2,
       "version_minor": 0
      },
      "text/plain": [
       "interactive(children=(FloatSlider(value=1.0, description='base', max=3.0, min=-1.0), Output()), _dom_classes=(…"
      ]
     },
     "metadata": {},
     "output_type": "display_data"
    }
   ],
   "source": [
    "# See https://stackoverflow.com/questions/44329068/jupyter-notebook-interactive-plot-with-widgets\n",
    "\n",
    "print(get_ipython().__class__.__name__)\n",
    "%matplotlib widget\n",
    "\n",
    "import ipywidgets\n",
    "import ipysheet\n",
    "import pandas\n",
    "from matplotlib import pyplot as plt\n",
    "\n",
    "ipywidgets.interact\n",
    "\n",
    "def example_data(base):\n",
    "    return pandas.DataFrame(\n",
    "        columns=['a','base'], \n",
    "        data=[\n",
    "            {'a': a, 'base': base**a}\n",
    "            for a in range(5)\n",
    "        ]\n",
    "    )\n",
    "\n",
    "df = example_data(2.)\n",
    "axes = df.plot.line(x='a', y='base')\n",
    "display(axes)\n",
    "\n",
    "def update_plot(base):\n",
    "    print(base)\n",
    "    if base is None:\n",
    "        return\n",
    "    df = example_data(base)\n",
    "    axes.lines[0].set_ydata(df.base)\n",
    "    # plt.plot(df.a, df.b)\n",
    "    axes.figure.canvas.draw_idle()\n",
    "    axes.set_ylim(min(min(df.base) - 0.5, 0), max(max(df.base) + 0.5, 4))\n",
    "\n",
    "ipywidgets.interact(update_plot, base=1.) and None\n",
    "\n",
    "None  "
   ]
  },
  {
   "cell_type": "markdown",
   "metadata": {},
   "source": [
    "## Plotting graph data structures"
   ]
  },
  {
   "cell_type": "code",
   "execution_count": 1,
   "metadata": {},
   "outputs": [
    {
     "data": {
      "image/svg+xml": [
       "<?xml version=\"1.0\" encoding=\"UTF-8\" standalone=\"no\"?>\n",
       "<!DOCTYPE svg PUBLIC \"-//W3C//DTD SVG 1.1//EN\"\n",
       " \"http://www.w3.org/Graphics/SVG/1.1/DTD/svg11.dtd\">\n",
       "<!-- Generated by graphviz version 2.40.1 (20161225.0304)\n",
       " -->\n",
       "<!-- Title: %3 Pages: 1 -->\n",
       "<svg width=\"62pt\" height=\"131pt\"\n",
       " viewBox=\"0.00 0.00 62.00 131.00\" xmlns=\"http://www.w3.org/2000/svg\" xmlns:xlink=\"http://www.w3.org/1999/xlink\">\n",
       "<g id=\"graph0\" class=\"graph\" transform=\"scale(1 1) rotate(0) translate(4 127)\">\n",
       "<title>%3</title>\n",
       "<polygon fill=\"#ffffff\" stroke=\"transparent\" points=\"-4,4 -4,-127 58,-127 58,4 -4,4\"/>\n",
       "<!-- a -->\n",
       "<g id=\"node1\" class=\"node\">\n",
       "<title>a</title>\n",
       "<ellipse fill=\"none\" stroke=\"#000000\" cx=\"27\" cy=\"-105\" rx=\"27\" ry=\"18\"/>\n",
       "<text text-anchor=\"middle\" x=\"27\" y=\"-101.3\" font-family=\"Times,serif\" font-size=\"14.00\" fill=\"#000000\">a</text>\n",
       "</g>\n",
       "<!-- b -->\n",
       "<g id=\"node2\" class=\"node\">\n",
       "<title>b</title>\n",
       "<ellipse fill=\"none\" stroke=\"#000000\" cx=\"27\" cy=\"-18\" rx=\"27\" ry=\"18\"/>\n",
       "<text text-anchor=\"middle\" x=\"27\" y=\"-14.3\" font-family=\"Times,serif\" font-size=\"14.00\" fill=\"#000000\">b</text>\n",
       "</g>\n",
       "<!-- a&#45;&gt;b -->\n",
       "<g id=\"edge1\" class=\"edge\">\n",
       "<title>a&#45;&gt;b</title>\n",
       "<path fill=\"none\" stroke=\"#000000\" d=\"M27,-86.9735C27,-75.1918 27,-59.5607 27,-46.1581\"/>\n",
       "<polygon fill=\"#000000\" stroke=\"#000000\" points=\"30.5001,-46.0033 27,-36.0034 23.5001,-46.0034 30.5001,-46.0033\"/>\n",
       "<text text-anchor=\"middle\" x=\"30.5\" y=\"-57.8\" font-family=\"Times,serif\" font-size=\"14.00\" fill=\"#000000\">c</text>\n",
       "</g>\n",
       "</g>\n",
       "</svg>\n"
      ],
      "text/plain": [
       "<graphviz.dot.Digraph at 0x10da214f0>"
      ]
     },
     "execution_count": 1,
     "metadata": {},
     "output_type": "execute_result"
    }
   ],
   "source": [
    "import graphviz\n",
    "from pathlib import Path\n",
    "\n",
    "\n",
    "dg = graphviz.Digraph()\n",
    "\n",
    "dg.edge('a', 'b', 'c')\n",
    "dg"
   ]
  },
  {
   "cell_type": "code",
   "execution_count": null,
   "metadata": {},
   "outputs": [],
   "source": []
  }
 ],
 "metadata": {
  "instance_type": "ml.t3.medium",
  "kernelspec": {
   "display_name": "playground",
   "language": "python",
   "name": "playground"
  },
  "language_info": {
   "codemirror_mode": {
    "name": "ipython",
    "version": 3
   },
   "file_extension": ".py",
   "mimetype": "text/x-python",
   "name": "python",
   "nbconvert_exporter": "python",
   "pygments_lexer": "ipython3",
   "version": "3.8.2"
  },
  "widgets": {
   "application/vnd.jupyter.widget-state+json": {
    "state": {
     "0d4776f8eb564f2497175d800639e67e": {
      "model_module": "@jupyter-widgets/base",
      "model_module_version": "1.2.0",
      "model_name": "LayoutModel",
      "state": {}
     },
     "1655ba48a7ea4f0eb6de9d90297c5b72": {
      "model_module": "@jupyter-widgets/output",
      "model_module_version": "1.0.0",
      "model_name": "OutputModel",
      "state": {
       "layout": "IPY_MODEL_553dd01c986e452da689be8897876293",
       "outputs": [
        {
         "name": "stdout",
         "output_type": "stream",
         "text": "3.0\n"
        }
       ]
      }
     },
     "31de403f351f4e9c9b4a4ac20ab14710": {
      "model_module": "@jupyter-widgets/controls",
      "model_module_version": "1.5.0",
      "model_name": "FloatSliderModel",
      "state": {
       "description": "base",
       "layout": "IPY_MODEL_0d4776f8eb564f2497175d800639e67e",
       "max": 3,
       "min": -1,
       "step": 0.1,
       "style": "IPY_MODEL_b5d2f7ae691a429fa28ddfb294994923",
       "value": 3
      }
     },
     "348316c40b204a25b924b9cf7802dda4": {
      "model_module": "@jupyter-widgets/controls",
      "model_module_version": "1.5.0",
      "model_name": "VBoxModel",
      "state": {
       "_dom_classes": [
        "widget-interact"
       ],
       "children": [
        "IPY_MODEL_31de403f351f4e9c9b4a4ac20ab14710",
        "IPY_MODEL_1655ba48a7ea4f0eb6de9d90297c5b72"
       ],
       "layout": "IPY_MODEL_fa49e655271b495e9ef1aa37c6aa9ee2"
      }
     },
     "553dd01c986e452da689be8897876293": {
      "model_module": "@jupyter-widgets/base",
      "model_module_version": "1.2.0",
      "model_name": "LayoutModel",
      "state": {}
     },
     "5c8c369e749947369826544c73333310": {
      "model_module": "jupyter-matplotlib",
      "model_module_version": "^0.7.2",
      "model_name": "MPLCanvasModel",
      "state": {
       "_figure_label": "Figure 1",
       "_height": 480,
       "_image_mode": "diff",
       "_width": 640,
       "layout": "IPY_MODEL_8d81be2092da457a97beee233ec51f09",
       "toolbar": "IPY_MODEL_6defd7ca8a7b4439a94a39cc2e8c08c5",
       "toolbar_position": "left"
      }
     },
     "6defd7ca8a7b4439a94a39cc2e8c08c5": {
      "model_module": "jupyter-matplotlib",
      "model_module_version": "^0.7.2",
      "model_name": "ToolbarModel",
      "state": {
       "layout": "IPY_MODEL_b9f910a35f264e0b86b0c71f5fe53b98",
       "toolitems": [
        [
         "Home",
         "Reset original view",
         "home",
         "home"
        ],
        [
         "Back",
         "Back to previous view",
         "arrow-left",
         "back"
        ],
        [
         "Forward",
         "Forward to next view",
         "arrow-right",
         "forward"
        ],
        [
         "Pan",
         "Pan axes with left mouse, zoom with right",
         "arrows",
         "pan"
        ],
        [
         "Zoom",
         "Zoom to rectangle",
         "square-o",
         "zoom"
        ],
        [
         "Download",
         "Download plot",
         "floppy-o",
         "save_figure"
        ]
       ]
      }
     },
     "8d81be2092da457a97beee233ec51f09": {
      "model_module": "@jupyter-widgets/base",
      "model_module_version": "1.2.0",
      "model_name": "LayoutModel",
      "state": {}
     },
     "b5d2f7ae691a429fa28ddfb294994923": {
      "model_module": "@jupyter-widgets/controls",
      "model_module_version": "1.5.0",
      "model_name": "SliderStyleModel",
      "state": {
       "description_width": ""
      }
     },
     "b9f910a35f264e0b86b0c71f5fe53b98": {
      "model_module": "@jupyter-widgets/base",
      "model_module_version": "1.2.0",
      "model_name": "LayoutModel",
      "state": {}
     },
     "fa49e655271b495e9ef1aa37c6aa9ee2": {
      "model_module": "@jupyter-widgets/base",
      "model_module_version": "1.2.0",
      "model_name": "LayoutModel",
      "state": {}
     }
    },
    "version_major": 2,
    "version_minor": 0
   }
  }
 },
 "nbformat": 4,
 "nbformat_minor": 4
}
